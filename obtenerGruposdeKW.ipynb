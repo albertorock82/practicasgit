{
  "nbformat": 4,
  "nbformat_minor": 0,
  "metadata": {
    "colab": {
      "provenance": [],
      "authorship_tag": "ABX9TyPNn1fT6TOiq8c9XqRhfrn0",
      "include_colab_link": true
    },
    "kernelspec": {
      "name": "python3",
      "display_name": "Python 3"
    },
    "language_info": {
      "name": "python"
    }
  },
  "cells": [
    {
      "cell_type": "markdown",
      "metadata": {
        "id": "view-in-github",
        "colab_type": "text"
      },
      "source": [
        "<a href=\"https://colab.research.google.com/github/albertorock82/practicasgit/blob/main/obtenerGruposdeKW.ipynb\" target=\"_parent\"><img src=\"https://colab.research.google.com/assets/colab-badge.svg\" alt=\"Open In Colab\"/></a>"
      ]
    },
    {
      "cell_type": "code",
      "source": [
        "!pip install --quiet gspread pandas unidecode nltk\n"
      ],
      "metadata": {
        "id": "8ZrDGB1KWYrH"
      },
      "execution_count": null,
      "outputs": []
    },
    {
      "cell_type": "code",
      "execution_count": 11,
      "metadata": {
        "colab": {
          "base_uri": "https://localhost:8080/"
        },
        "id": "gDCDFvP7UBep",
        "outputId": "49acaaa4-1957-4992-e084-8caa6205cd92"
      },
      "outputs": [
        {
          "output_type": "stream",
          "name": "stdout",
          "text": [
            "Collecting es-core-news-sm==3.8.0\n",
            "  Downloading https://github.com/explosion/spacy-models/releases/download/es_core_news_sm-3.8.0/es_core_news_sm-3.8.0-py3-none-any.whl (12.9 MB)\n",
            "\u001b[2K     \u001b[90m━━━━━━━━━━━━━━━━━━━━━━━━━━━━━━━━━━━━━━━━\u001b[0m \u001b[32m12.9/12.9 MB\u001b[0m \u001b[31m46.3 MB/s\u001b[0m eta \u001b[36m0:00:00\u001b[0m\n",
            "\u001b[?25hInstalling collected packages: es-core-news-sm\n",
            "Successfully installed es-core-news-sm-3.8.0\n",
            "\u001b[38;5;2m✔ Download and installation successful\u001b[0m\n",
            "You can now load the package via spacy.load('es_core_news_sm')\n",
            "\u001b[38;5;3m⚠ Restart to reload dependencies\u001b[0m\n",
            "If you are in a Jupyter or Colab notebook, you may need to restart Python in\n",
            "order to load all the package's dependencies. You can do this by selecting the\n",
            "'Restart kernel' or 'Restart runtime' option.\n",
            "✅ Agrupación semántica completada. Revisa la hoja 'agrupaciones'\n"
          ]
        }
      ],
      "source": [
        "# Paso 1: Instalar dependencias\n",
        "!pip install --quiet gspread pandas unidecode spacy\n",
        "!python -m spacy download es_core_news_sm\n",
        "\n",
        "import pandas as pd\n",
        "import gspread\n",
        "from unidecode import unidecode\n",
        "import spacy\n",
        "from collections import defaultdict\n",
        "import re\n",
        "import string\n",
        "\n",
        "from google.colab import auth\n",
        "from google.oauth2.service_account import Credentials\n",
        "\n",
        "# --- PARÁMETROS A EDITAR ---\n",
        "NOMBRE_ARCHIVO_JSON = '/content/ambient-antenna-440101-u4-d9758bb09208.json'  # Sube tu clave JSON y pon aquí el nombre\n",
        "NOMBRE_LIBRO = 'KeywordDepliadorKS_serp'\n",
        "NOMBRE_HOJA = 'Sheet1'  # hoja donde están las keywords en columna A\n",
        "NOMBRE_HOJA_RESULTADO = 'grupos'\n",
        "\n",
        "# --- AUTENTICACIÓN CON GOOGLE SHEETS ---\n",
        "scope = [\"https://spreadsheets.google.com/feeds\",'https://www.googleapis.com/auth/spreadsheets',\n",
        "         \"https://www.googleapis.com/auth/drive.file\",\"https://www.googleapis.com/auth/drive\"]\n",
        "\n",
        "credentials = Credentials.from_service_account_file(NOMBRE_ARCHIVO_JSON, scopes=scope)\n",
        "gc = gspread.authorize(credentials)\n",
        "\n",
        "# --- CARGAR DATOS ---\n",
        "sh = gc.open(NOMBRE_LIBRO)\n",
        "worksheet = sh.worksheet(NOMBRE_HOJA)\n",
        "keywords = worksheet.col_values(1)  # Columna A completa\n",
        "\n",
        "# --- PREPROCESAMIENTO ---\n",
        "nlp = spacy.load(\"es_core_news_sm\")\n",
        "\n",
        "agrupaciones = defaultdict(set)\n",
        "\n",
        "def es_valida(palabra):\n",
        "    # Descarta palabras muy cortas, solo numéricas, o vacías\n",
        "    return (\n",
        "        len(palabra) >= 3 and\n",
        "        not re.match(r'^\\d+$', palabra) and\n",
        "        palabra not in {'como', 'es', 'de', 'los', 'las', 'para', 'el', 'la',\n",
        "                        'por', 'con', 'un', 'una', 'al', 'en', 'y', 'o'}\n",
        "    )\n",
        "\n",
        "for fila in keywords:\n",
        "    # Elimina puntuación, tildes, pasa a minúsculas\n",
        "    fila = unidecode(fila.lower())\n",
        "    fila = fila.translate(str.maketrans('', '', string.punctuation))\n",
        "    palabras = fila.split()\n",
        "\n",
        "    for palabra in palabras:\n",
        "        if es_valida(palabra):\n",
        "            doc = nlp(palabra)\n",
        "            if doc:\n",
        "                lema = doc[0].lemma_\n",
        "                agrupaciones[lema].add(palabra)\n",
        "\n",
        "# --- PREPARAR RESULTADO ---\n",
        "df_grupos = pd.DataFrame([\n",
        "    {\"identificador\": clave, \"variantes\": \", \".join(sorted(list(valores)))}\n",
        "    for clave, valores in agrupaciones.items()\n",
        "])\n",
        "\n",
        "# --- CREAR NUEVA HOJA Y ESCRIBIR ---\n",
        "# Borrar hoja si ya existe\n",
        "try:\n",
        "    sh.del_worksheet(sh.worksheet(NOMBRE_HOJA_RESULTADO))\n",
        "except:\n",
        "    pass\n",
        "\n",
        "ws_out = sh.add_worksheet(title=NOMBRE_HOJA_RESULTADO, rows=len(df_grupos)+1, cols=2)\n",
        "ws_out.update([[\"identificador\", \"variantes\"]] + df_grupos.values.tolist())\n",
        "\n",
        "print(\"✅ Agrupación semántica completada. Revisa la hoja 'agrupaciones'\")\n"
      ]
    }
  ]
}