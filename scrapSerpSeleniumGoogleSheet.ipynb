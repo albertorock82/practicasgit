{
  "nbformat": 4,
  "nbformat_minor": 0,
  "metadata": {
    "colab": {
      "provenance": [],
      "authorship_tag": "ABX9TyPVpBcpazsiFxZt8z6ejlId",
      "include_colab_link": true
    },
    "kernelspec": {
      "name": "python3",
      "display_name": "Python 3"
    },
    "language_info": {
      "name": "python"
    }
  },
  "cells": [
    {
      "cell_type": "markdown",
      "metadata": {
        "id": "view-in-github",
        "colab_type": "text"
      },
      "source": [
        "<a href=\"https://colab.research.google.com/github/albertorock82/practicasgit/blob/main/scrapSerpSeleniumGoogleSheet.ipynb\" target=\"_parent\"><img src=\"https://colab.research.google.com/assets/colab-badge.svg\" alt=\"Open In Colab\"/></a>"
      ]
    },
    {
      "cell_type": "code",
      "source": [
        "pip install gspread oauth2client selenium beautifulsoup4 webdriver-manager==3.8.4"
      ],
      "metadata": {
        "colab": {
          "base_uri": "https://localhost:8080/"
        },
        "id": "GQahdytIV342",
        "outputId": "be6b996f-11fd-4b2b-cd84-9e336db5747f"
      },
      "execution_count": null,
      "outputs": [
        {
          "output_type": "stream",
          "name": "stdout",
          "text": [
            "Requirement already satisfied: gspread in /usr/local/lib/python3.12/dist-packages (6.2.1)\n",
            "Requirement already satisfied: oauth2client in /usr/local/lib/python3.12/dist-packages (4.1.3)\n",
            "Requirement already satisfied: selenium in /usr/local/lib/python3.12/dist-packages (4.35.0)\n",
            "Requirement already satisfied: beautifulsoup4 in /usr/local/lib/python3.12/dist-packages (4.13.5)\n",
            "Requirement already satisfied: webdriver-manager==3.8.4 in /usr/local/lib/python3.12/dist-packages (3.8.4)\n",
            "Requirement already satisfied: requests in /usr/local/lib/python3.12/dist-packages (from webdriver-manager==3.8.4) (2.32.4)\n",
            "Requirement already satisfied: python-dotenv in /usr/local/lib/python3.12/dist-packages (from webdriver-manager==3.8.4) (1.1.1)\n",
            "Requirement already satisfied: tqdm in /usr/local/lib/python3.12/dist-packages (from webdriver-manager==3.8.4) (4.67.1)\n",
            "Requirement already satisfied: google-auth>=1.12.0 in /usr/local/lib/python3.12/dist-packages (from gspread) (2.38.0)\n",
            "Requirement already satisfied: google-auth-oauthlib>=0.4.1 in /usr/local/lib/python3.12/dist-packages (from gspread) (1.2.2)\n",
            "Requirement already satisfied: httplib2>=0.9.1 in /usr/local/lib/python3.12/dist-packages (from oauth2client) (0.31.0)\n",
            "Requirement already satisfied: pyasn1>=0.1.7 in /usr/local/lib/python3.12/dist-packages (from oauth2client) (0.6.1)\n",
            "Requirement already satisfied: pyasn1-modules>=0.0.5 in /usr/local/lib/python3.12/dist-packages (from oauth2client) (0.4.2)\n",
            "Requirement already satisfied: rsa>=3.1.4 in /usr/local/lib/python3.12/dist-packages (from oauth2client) (4.9.1)\n",
            "Requirement already satisfied: six>=1.6.1 in /usr/local/lib/python3.12/dist-packages (from oauth2client) (1.17.0)\n",
            "Requirement already satisfied: urllib3<3.0,>=2.5.0 in /usr/local/lib/python3.12/dist-packages (from urllib3[socks]<3.0,>=2.5.0->selenium) (2.5.0)\n",
            "Requirement already satisfied: trio~=0.30.0 in /usr/local/lib/python3.12/dist-packages (from selenium) (0.30.0)\n",
            "Requirement already satisfied: trio-websocket~=0.12.2 in /usr/local/lib/python3.12/dist-packages (from selenium) (0.12.2)\n",
            "Requirement already satisfied: certifi>=2025.6.15 in /usr/local/lib/python3.12/dist-packages (from selenium) (2025.8.3)\n",
            "Requirement already satisfied: typing_extensions~=4.14.0 in /usr/local/lib/python3.12/dist-packages (from selenium) (4.14.1)\n",
            "Requirement already satisfied: websocket-client~=1.8.0 in /usr/local/lib/python3.12/dist-packages (from selenium) (1.8.0)\n",
            "Requirement already satisfied: soupsieve>1.2 in /usr/local/lib/python3.12/dist-packages (from beautifulsoup4) (2.8)\n",
            "Requirement already satisfied: cachetools<6.0,>=2.0.0 in /usr/local/lib/python3.12/dist-packages (from google-auth>=1.12.0->gspread) (5.5.2)\n",
            "Requirement already satisfied: requests-oauthlib>=0.7.0 in /usr/local/lib/python3.12/dist-packages (from google-auth-oauthlib>=0.4.1->gspread) (2.0.0)\n",
            "Requirement already satisfied: pyparsing<4,>=3.0.4 in /usr/local/lib/python3.12/dist-packages (from httplib2>=0.9.1->oauth2client) (3.2.4)\n",
            "Requirement already satisfied: attrs>=23.2.0 in /usr/local/lib/python3.12/dist-packages (from trio~=0.30.0->selenium) (25.3.0)\n",
            "Requirement already satisfied: sortedcontainers in /usr/local/lib/python3.12/dist-packages (from trio~=0.30.0->selenium) (2.4.0)\n",
            "Requirement already satisfied: idna in /usr/local/lib/python3.12/dist-packages (from trio~=0.30.0->selenium) (3.10)\n",
            "Requirement already satisfied: outcome in /usr/local/lib/python3.12/dist-packages (from trio~=0.30.0->selenium) (1.3.0.post0)\n",
            "Requirement already satisfied: sniffio>=1.3.0 in /usr/local/lib/python3.12/dist-packages (from trio~=0.30.0->selenium) (1.3.1)\n",
            "Requirement already satisfied: wsproto>=0.14 in /usr/local/lib/python3.12/dist-packages (from trio-websocket~=0.12.2->selenium) (1.2.0)\n",
            "Requirement already satisfied: pysocks!=1.5.7,<2.0,>=1.5.6 in /usr/local/lib/python3.12/dist-packages (from urllib3[socks]<3.0,>=2.5.0->selenium) (1.7.1)\n",
            "Requirement already satisfied: charset_normalizer<4,>=2 in /usr/local/lib/python3.12/dist-packages (from requests->webdriver-manager==3.8.4) (3.4.3)\n",
            "Requirement already satisfied: oauthlib>=3.0.0 in /usr/local/lib/python3.12/dist-packages (from requests-oauthlib>=0.7.0->google-auth-oauthlib>=0.4.1->gspread) (3.3.1)\n",
            "Requirement already satisfied: h11<1,>=0.9.0 in /usr/local/lib/python3.12/dist-packages (from wsproto>=0.14->trio-websocket~=0.12.2->selenium) (0.16.0)\n"
          ]
        }
      ]
    },
    {
      "cell_type": "code",
      "source": [
        "import random\n",
        "import time\n",
        "import unicodedata\n",
        "import gspread\n",
        "from bs4 import BeautifulSoup\n",
        "from selenium import webdriver\n",
        "from selenium.webdriver.common.by import By\n",
        "from selenium.webdriver.chrome.options import Options\n",
        "from google.oauth2.service_account import Credentials\n",
        "from selenium.common.exceptions import NoSuchElementException\n",
        "from webdriver_manager.chrome import ChromeDriverManager\n",
        "\n",
        "# Configuración de Google Sheets\n",
        "SHEET_NAME = \"KeywordDepliadorKS_serp\"  # Nombre del libro\n",
        "WORKSHEET_NAME = \"palabrasSerp\"  # Nombre de la pestaña\n",
        "\n",
        "def clean_text(text):\n",
        "    \"\"\"Elimina acentos y caracteres especiales del texto.\"\"\"\n",
        "    return unicodedata.normalize('NFKD', text).encode('ascii', 'ignore').decode('utf-8').strip()\n",
        "\n",
        "def configure_driver():\n",
        "    \"\"\"Configura el navegador con Selenium.\"\"\"\n",
        "    options = Options()\n",
        "    options.add_argument(\"--headless\")\n",
        "    options.add_argument(\"--no-sandbox\")\n",
        "    options.add_argument(\"--disable-dev-shm-usage\")\n",
        "    options.add_argument(\"--disable-extensions\")\n",
        "    options.add_argument(\"start-maximized\")\n",
        "    options.add_argument(\n",
        "        \"user-agent=Mozilla/5.0 (Windows NT 10.0; Win64; x64) AppleWebKit/537.36 (KHTML, like Gecko) Chrome/130.0.6723.70 Safari/537.36\"\n",
        "    )\n",
        "    # Remove executable_path for newer Selenium versions\n",
        "    driver = webdriver.Chrome(options=options)\n",
        "    return driver\n",
        "\n",
        "def connect_to_sheet():\n",
        "    \"\"\"Conecta con Google Sheets usando credenciales JSON.\"\"\"\n",
        "    # Make sure the path to your credentials file is correct\n",
        "    creds = Credentials.from_service_account_file(\"/content/ambient-antenna-440101-u4-d9758bb09208.json\", scopes=[\n",
        "        \"https://www.googleapis.com/auth/spreadsheets\",\n",
        "        \"https://www.googleapis.com/auth/drive\"\n",
        "    ])\n",
        "    client = gspread.authorize(creds)\n",
        "    return client.open(SHEET_NAME).worksheet(WORKSHEET_NAME)\n",
        "\n",
        "def get_keywords(sheet):\n",
        "    \"\"\"Obtiene las palabras clave desde la columna 'keywords' y filtra las filas sin datos en la tercera columna.\"\"\"\n",
        "    data = sheet.get_all_values()\n",
        "    if not data:\n",
        "        return []\n",
        "\n",
        "    headers = data[0]\n",
        "    try:\n",
        "        keyword_col_index = headers.index(\"keywords\")\n",
        "    except ValueError:\n",
        "        print(\"Error: 'keywords' column not found in the sheet.\")\n",
        "        return []\n",
        "\n",
        "    keywords_list = []\n",
        "    for idx, row in enumerate(data[1:]): # Start from the second row to skip headers\n",
        "        # Ensure the row has enough columns to avoid IndexError\n",
        "        if len(row) > max(keyword_col_index, 2): # Check if both keyword column and the third column exist\n",
        "            keyword = row[keyword_col_index].strip()\n",
        "            third_col_value = row[2].strip() # Assuming the third column is still the one to check for emptiness\n",
        "            if keyword and not third_col_value:\n",
        "                keywords_list.append((idx + 2, keyword)) # Add 2 because we skipped header and enumerate is 0-indexed\n",
        "\n",
        "    return keywords_list\n",
        "\n",
        "\n",
        "def google_search(keyword):\n",
        "    \"\"\"Realiza scraping en Google para una palabra clave.\"\"\"\n",
        "    driver = configure_driver()\n",
        "    query = f\"https://www.google.com/search?q={keyword}&hl=es&gl=EC&lr=lang_es\"\n",
        "    driver.get(query)\n",
        "    time.sleep(random.randint(10, 20))  # Pausa aleatoria para evitar bloqueos\n",
        "\n",
        "    soup = BeautifulSoup(driver.page_source, \"html.parser\")\n",
        "    # Adjusted to find the correct result blocks based on current Google SERP structure\n",
        "    results = soup.select(\"div.g\")\n",
        "\n",
        "    search_results = []\n",
        "    for result in results[:3]: # Limit to top 3 results\n",
        "        title = result.select_one(\"h3\")\n",
        "        link = result.select_one(\"a\")\n",
        "        description = result.select_one(\"div[data-sncf='1']\") or result.select_one(\"div.VwiC3b\")\n",
        "\n",
        "        title_text = title.get_text() if title else \"Sin título\"\n",
        "        link_href = link[\"href\"] if link else \"Sin enlace\"\n",
        "        description_text = description.get_text() if description else \"Sin descripción\"\n",
        "\n",
        "        search_results.extend([link_href, title_text, description_text])\n",
        "\n",
        "    driver.quit()\n",
        "    return search_results\n",
        "\n",
        "def save_to_sheet(sheet, row, results):\n",
        "    \"\"\"Guarda los resultados (URL, Título, Descripción) en la hoja a partir de la columna C.\"\"\"\n",
        "    # Ensure results list has a length that is a multiple of 3 (URL, Title, Description)\n",
        "    # and pad with 'N/A' if necessary to fill up to 9 columns (3 results * 3 fields)\n",
        "    padded_results = results + ['N/A'] * (9 - len(results))\n",
        "\n",
        "    sheet.update(\n",
        "        range_name=f\"C{row}:K{row}\",\n",
        "        values=[padded_results]\n",
        "    )\n",
        "\n",
        "\n",
        "# Conexión y ejecución\n",
        "try:\n",
        "    sheet = connect_to_sheet()\n",
        "    keywords_data = get_keywords(sheet)\n",
        "\n",
        "    if not keywords_data:\n",
        "        print(\"No keywords found to process or 'keywords' column is missing.\")\n",
        "    else:\n",
        "        print(f\"Found {len(keywords_data)} keywords to process.\")\n",
        "        for row, keyword in keywords_data:\n",
        "            print(f\"Processing row {row}, keyword: {keyword}\")\n",
        "            try:\n",
        "                results = google_search(clean_text(keyword))\n",
        "                save_to_sheet(sheet, row, results)\n",
        "                print(f\"Successfully processed row {row}.\")\n",
        "            except Exception as e:\n",
        "                print(f\"Error processing row {row} for keyword '{keyword}': {e}\")\n",
        "            time.sleep(random.randint(5, 10)) # Add a small delay between processing each keyword\n",
        "\n",
        "except Exception as e:\n",
        "    print(f\"An error occurred: {e}\")"
      ],
      "metadata": {
        "colab": {
          "base_uri": "https://localhost:8080/",
          "height": 436
        },
        "id": "Ti7oE3FMMwAP",
        "outputId": "708baf06-4767-428a-a078-644212aa07ab"
      },
      "execution_count": null,
      "outputs": [
        {
          "output_type": "stream",
          "name": "stdout",
          "text": [
            "Found 2196 keywords to process.\n",
            "Processing row 2, keyword: adss depilacion laser\n",
            "Successfully processed row 2.\n",
            "Processing row 3, keyword: afeitador de mujer\n",
            "Successfully processed row 3.\n",
            "Processing row 4, keyword: afeitador femenino\n"
          ]
        },
        {
          "output_type": "error",
          "ename": "KeyboardInterrupt",
          "evalue": "",
          "traceback": [
            "\u001b[0;31m---------------------------------------------------------------------------\u001b[0m",
            "\u001b[0;31mKeyboardInterrupt\u001b[0m                         Traceback (most recent call last)",
            "\u001b[0;32m/tmp/ipython-input-1148249589.py\u001b[0m in \u001b[0;36m<cell line: 0>\u001b[0;34m()\u001b[0m\n\u001b[1;32m    119\u001b[0m             \u001b[0mprint\u001b[0m\u001b[0;34m(\u001b[0m\u001b[0;34mf\"Processing row {row}, keyword: {keyword}\"\u001b[0m\u001b[0;34m)\u001b[0m\u001b[0;34m\u001b[0m\u001b[0;34m\u001b[0m\u001b[0m\n\u001b[1;32m    120\u001b[0m             \u001b[0;32mtry\u001b[0m\u001b[0;34m:\u001b[0m\u001b[0;34m\u001b[0m\u001b[0;34m\u001b[0m\u001b[0m\n\u001b[0;32m--> 121\u001b[0;31m                 \u001b[0mresults\u001b[0m \u001b[0;34m=\u001b[0m \u001b[0mgoogle_search\u001b[0m\u001b[0;34m(\u001b[0m\u001b[0mclean_text\u001b[0m\u001b[0;34m(\u001b[0m\u001b[0mkeyword\u001b[0m\u001b[0;34m)\u001b[0m\u001b[0;34m)\u001b[0m\u001b[0;34m\u001b[0m\u001b[0;34m\u001b[0m\u001b[0m\n\u001b[0m\u001b[1;32m    122\u001b[0m                 \u001b[0msave_to_sheet\u001b[0m\u001b[0;34m(\u001b[0m\u001b[0msheet\u001b[0m\u001b[0;34m,\u001b[0m \u001b[0mrow\u001b[0m\u001b[0;34m,\u001b[0m \u001b[0mresults\u001b[0m\u001b[0;34m)\u001b[0m\u001b[0;34m\u001b[0m\u001b[0;34m\u001b[0m\u001b[0m\n\u001b[1;32m    123\u001b[0m                 \u001b[0mprint\u001b[0m\u001b[0;34m(\u001b[0m\u001b[0;34mf\"Successfully processed row {row}.\"\u001b[0m\u001b[0;34m)\u001b[0m\u001b[0;34m\u001b[0m\u001b[0;34m\u001b[0m\u001b[0m\n",
            "\u001b[0;32m/tmp/ipython-input-1148249589.py\u001b[0m in \u001b[0;36mgoogle_search\u001b[0;34m(keyword)\u001b[0m\n\u001b[1;32m     74\u001b[0m     \u001b[0mquery\u001b[0m \u001b[0;34m=\u001b[0m \u001b[0;34mf\"https://www.google.com/search?q={keyword}&hl=es&gl=EC&lr=lang_es\"\u001b[0m\u001b[0;34m\u001b[0m\u001b[0;34m\u001b[0m\u001b[0m\n\u001b[1;32m     75\u001b[0m     \u001b[0mdriver\u001b[0m\u001b[0;34m.\u001b[0m\u001b[0mget\u001b[0m\u001b[0;34m(\u001b[0m\u001b[0mquery\u001b[0m\u001b[0;34m)\u001b[0m\u001b[0;34m\u001b[0m\u001b[0;34m\u001b[0m\u001b[0m\n\u001b[0;32m---> 76\u001b[0;31m     \u001b[0mtime\u001b[0m\u001b[0;34m.\u001b[0m\u001b[0msleep\u001b[0m\u001b[0;34m(\u001b[0m\u001b[0mrandom\u001b[0m\u001b[0;34m.\u001b[0m\u001b[0mrandint\u001b[0m\u001b[0;34m(\u001b[0m\u001b[0;36m10\u001b[0m\u001b[0;34m,\u001b[0m \u001b[0;36m20\u001b[0m\u001b[0;34m)\u001b[0m\u001b[0;34m)\u001b[0m  \u001b[0;31m# Pausa aleatoria para evitar bloqueos\u001b[0m\u001b[0;34m\u001b[0m\u001b[0;34m\u001b[0m\u001b[0m\n\u001b[0m\u001b[1;32m     77\u001b[0m \u001b[0;34m\u001b[0m\u001b[0m\n\u001b[1;32m     78\u001b[0m     \u001b[0msoup\u001b[0m \u001b[0;34m=\u001b[0m \u001b[0mBeautifulSoup\u001b[0m\u001b[0;34m(\u001b[0m\u001b[0mdriver\u001b[0m\u001b[0;34m.\u001b[0m\u001b[0mpage_source\u001b[0m\u001b[0;34m,\u001b[0m \u001b[0;34m\"html.parser\"\u001b[0m\u001b[0;34m)\u001b[0m\u001b[0;34m\u001b[0m\u001b[0;34m\u001b[0m\u001b[0m\n",
            "\u001b[0;31mKeyboardInterrupt\u001b[0m: "
          ]
        }
      ]
    }
  ]
}